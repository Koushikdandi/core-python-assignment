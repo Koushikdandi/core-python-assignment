{
 "cells": [
  {
   "cell_type": "code",
   "execution_count": null,
   "id": "fdce45a6-29ae-40c8-8ce3-9430b9c0dfb1",
   "metadata": {},
   "outputs": [],
   "source": []
  }
 ],
 "metadata": {
  "kernelspec": {
   "display_name": "",
   "name": ""
  },
  "language_info": {
   "name": ""
  }
 },
 "nbformat": 4,
 "nbformat_minor": 5
}
