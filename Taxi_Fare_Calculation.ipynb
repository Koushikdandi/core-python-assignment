{
 "cells": [
  {
   "cell_type": "markdown",
   "id": "65a1692a-e4d0-4ba2-9f9d-c129df6050c2",
   "metadata": {},
   "source": [
    "# Function to calculate fare for a single trip\n"
   ]
  },
  {
   "cell_type": "code",
   "execution_count": 1,
   "id": "6cab9b61-a99b-4822-bf11-ae08946c112c",
   "metadata": {},
   "outputs": [
    {
     "name": "stdin",
     "output_type": "stream",
     "text": [
      "Enter the distance for the trip (or type 'done' to finish):  5\n",
      "Enter the distance for the trip (or type 'done' to finish):  67\n",
      "Enter the distance for the trip (or type 'done' to finish):  90\n",
      "Enter the distance for the trip (or type 'done' to finish):  done\n"
     ]
    },
    {
     "name": "stdout",
     "output_type": "stream",
     "text": [
      "Trip 1: $100.0\n",
      "Trip 2: $720.0\n",
      "Trip 3: $950.0\n",
      "Total Fare: $1770.0\n"
     ]
    }
   ],
   "source": [
    "def calculate_fare(distance):\n",
    "    base_fare = 50\n",
    "    distance_rate = 10\n",
    "    return base_fare + (distance * distance_rate)\n",
    "\n",
    "trips = []\n",
    "total_fare = 0\n",
    "\n",
    "while True:\n",
    "    user_input = input(\"Enter the distance for the trip (or type 'done' to finish): \").strip()\n",
    "    \n",
    "    if user_input.lower() == 'done':\n",
    "        break\n",
    "    \n",
    "    try:\n",
    "        distance = float(user_input)\n",
    "        if distance < 0:\n",
    "            print(\"Distance cannot be negative. Please enter a valid distance.\")\n",
    "            continue\n",
    "        trips.append(distance)\n",
    "    except ValueError:\n",
    "        print(\"Invalid input. Please enter a number or 'done'.\")\n",
    "\n",
    "for i in range(len(trips)):\n",
    "    distance = trips[i]\n",
    "    fare = calculate_fare(distance)\n",
    "    print(f\"Trip {i + 1}: ${fare}\")\n",
    "    total_fare += fare\n",
    "\n",
    "print(f\"Total Fare: ${total_fare}\")\n"
   ]
  },
  {
   "cell_type": "code",
   "execution_count": null,
   "id": "c7a30998-86cd-4712-b3a7-e6fd76757d54",
   "metadata": {},
   "outputs": [],
   "source": []
  }
 ],
 "metadata": {
  "kernelspec": {
   "display_name": "Python 3 (ipykernel)",
   "language": "python",
   "name": "python3"
  },
  "language_info": {
   "codemirror_mode": {
    "name": "ipython",
    "version": 3
   },
   "file_extension": ".py",
   "mimetype": "text/x-python",
   "name": "python",
   "nbconvert_exporter": "python",
   "pygments_lexer": "ipython3",
   "version": "3.13.2"
  }
 },
 "nbformat": 4,
 "nbformat_minor": 5
}
