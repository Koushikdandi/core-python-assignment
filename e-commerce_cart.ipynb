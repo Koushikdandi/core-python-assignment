{
 "cells": [
  {
   "cell_type": "code",
   "execution_count": null,
   "id": "738fffdb-016a-4d54-8b58-30745dbf3261",
   "metadata": {},
   "outputs": [],
   "source": [
    "1. E-Commerce Cart System** \n",
    "\n",
    "Scenario:\n",
    "\n",
    "You are designing the logic for an e-commerce website. Write a program to calculate the total price of items in a user's cart. If the cart contains more than 5 items, apply 10% discount.\n",
    "\n",
    "Requirements:\n",
    "\n",
    "- Use a function to calculate the total price.\n",
    "\n",
    "- Handle cases where the cart is empty.\n",
    "\n",
    "Input Example:\n",
    "\n",
    "cart_items = {'Laptop': 50000, 'Headphones': 2000, 'Mouse': 500, 'Keyboard': 1500}\n",
    "\n",
    "Expected Output:\n",
    "\n",
    "Total Price: 54000\n",
    "\n"
   ]
  },
  {
   "cell_type": "code",
   "execution_count": null,
   "id": "3781b47f-6926-4b16-83c4-fd20d842f6d0",
   "metadata": {},
   "outputs": [
    {
     "name": "stdout",
     "output_type": "stream",
     "text": [
      "Welcome to the E-Commerce Cart System\n",
      "Add items to your cart (type 'done' to finish):\n",
      "\n"
     ]
    }
   ],
   "source": [
    "def user_cart():\n",
    "    cart_items = {}\n",
    "    print(\"Welcome to the E-Commerce Cart System\")\n",
    "    print(\"Add items to your cart (type 'done' to finish):\\n\")\n",
    "    while True:\n",
    "        item = input(\"Enter item name: \")\n",
    "        if item.lower() == 'done':\n",
    "            break\n",
    "\n",
    "        try:\n",
    "            price = float(input(f\"Enter price of {item}: ₹\"))\n",
    "            quantity = int(input(f\"Enter quantity of {item}: \"))\n",
    "            if price < 0 or quantity <= 0:\n",
    "                print(\"Price must be non-negative and quantity must be positive.\")\n",
    "                continue\n",
    "            cart_items[item] = (price, quantity)\n",
    "        except ValueError:\n",
    "            print(\"Invalid input. Please enter numeric values.\")\n",
    "\n",
    "    return cart_items\n",
    "def calculate(cart_items):\n",
    "    if not cart_items:\n",
    "        return \"Cart is empty.\"\n",
    "\n",
    "    total_price = 0\n",
    "    for item, (price, quantity) in cart_items.items():\n",
    "        total_price += price * quantity\n",
    "\n",
    "    if len(cart_items) >= 5:\n",
    "        print(\"You got 10% discount\")\n",
    "        total_price *= 0.9  \n",
    "\n",
    "    return f\"\\nTotal Price: ₹{int(total_price)}\"\n",
    "    \n",
    "cart=user_cart()\n",
    "print(calculate(cart))"
   ]
  },
  {
   "cell_type": "code",
   "execution_count": null,
   "id": "8f87f004-3e54-4354-a448-cc11f494451b",
   "metadata": {},
   "outputs": [],
   "source": []
  }
 ],
 "metadata": {
  "kernelspec": {
   "display_name": "Python 3 (ipykernel)",
   "language": "python",
   "name": "python3"
  },
  "language_info": {
   "codemirror_mode": {
    "name": "ipython",
    "version": 3
   },
   "file_extension": ".py",
   "mimetype": "text/x-python",
   "name": "python",
   "nbconvert_exporter": "python",
   "pygments_lexer": "ipython3",
   "version": "3.13.2"
  }
 },
 "nbformat": 4,
 "nbformat_minor": 5
}
