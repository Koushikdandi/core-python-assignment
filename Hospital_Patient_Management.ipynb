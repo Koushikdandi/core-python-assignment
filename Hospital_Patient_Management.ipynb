{
 "cells": [
  {
   "cell_type": "markdown",
   "id": "3fb27a4c-1521-4d04-9313-3b7cc1939c8a",
   "metadata": {},
   "source": [
    "# Hospital Patient Management\n"
   ]
  },
  {
   "cell_type": "code",
   "execution_count": null,
   "id": "6d0886a6-ea1b-4a91-8070-3c2b3b526f33",
   "metadata": {},
   "outputs": [],
   "source": [
    "def search_patients_by_disease(patients, disease):\n",
    "    matching_patients = []\n",
    "    for patient in patients:\n",
    "        if patient[\"Disease\"].lower() == disease.lower():\n",
    "            matching_patients.append(patient[\"Name\"])\n",
    "    return matching_patients\n",
    "\n",
    "patients = [\n",
    "    {\"Name\": \"Alice\", \"Age\": 30, \"Disease\": \"Flu\"},\n",
    "    {\"Name\": \"Bob\", \"Age\": 45, \"Disease\": \"Diabetes\"},\n",
    "    {\"Name\": \"Charlie\", \"Age\": 35, \"Disease\": \"Flu\"}\n",
    "]\n",
    "\n",
    "while True:\n",
    "    search_disease = input(\"Enter the disease to search for (or type 'exit' to quit): \").strip()\n",
    "    \n",
    "    if search_disease.lower() == 'exit':\n",
    "        break\n",
    "    \n",
    "    matched = search_patients_by_disease(patients, search_disease)\n",
    "    \n",
    "    if matched:\n",
    "        print(f\"Patients with {search_disease}: {matched}\")\n",
    "    else:\n",
    "        print(f\"No patients found with {search_disease}.\")\n"
   ]
  }
 ],
 "metadata": {
  "kernelspec": {
   "display_name": "Python 3 (ipykernel)",
   "language": "python",
   "name": "python3"
  },
  "language_info": {
   "codemirror_mode": {
    "name": "ipython",
    "version": 3
   },
   "file_extension": ".py",
   "mimetype": "text/x-python",
   "name": "python",
   "nbconvert_exporter": "python",
   "pygments_lexer": "ipython3",
   "version": "3.13.2"
  }
 },
 "nbformat": 4,
 "nbformat_minor": 5
}
