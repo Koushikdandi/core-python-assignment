{
 "cells": [
  {
   "cell_type": "code",
   "execution_count": 1,
   "id": "0638343a-1321-4046-a953-f71b076ad2a1",
   "metadata": {},
   "outputs": [
    {
     "name": "stdin",
     "output_type": "stream",
     "text": [
      "Enter a rating between 1 and 5 (or type 'done' to finish):  5\n",
      "Enter a rating between 1 and 5 (or type 'done' to finish):  2\n",
      "Enter a rating between 1 and 5 (or type 'done' to finish):  4\n",
      "Enter a rating between 1 and 5 (or type 'done' to finish):  6\n"
     ]
    },
    {
     "name": "stdout",
     "output_type": "stream",
     "text": [
      "Please enter a valid rating between 1 and 5.\n"
     ]
    },
    {
     "name": "stdin",
     "output_type": "stream",
     "text": [
      "Enter a rating between 1 and 5 (or type 'done' to finish):  4\n",
      "Enter a rating between 1 and 5 (or type 'done' to finish):  done\n"
     ]
    },
    {
     "name": "stdout",
     "output_type": "stream",
     "text": [
      "Positive ratings: 75.0%\n"
     ]
    }
   ],
   "source": [
    "def positive_rating(ratings):\n",
    "    if not ratings:\n",
    "        return \"No rating available\"\n",
    "\n",
    "    positive_count = 0\n",
    "    for rating in ratings:\n",
    "        if rating >= 4:\n",
    "            positive_count += 1\n",
    "\n",
    "    percentage = (positive_count / len(ratings)) * 100\n",
    "    return f\"Positive ratings: {round(percentage, 1)}%\"\n",
    "\n",
    "ratings = []\n",
    "\n",
    "while True:\n",
    "    user_input = input(\"Enter a rating between 1 and 5 (or type 'done' to finish): \").strip()\n",
    "    \n",
    "    if user_input.lower() == 'done':\n",
    "        break\n",
    "    \n",
    "    try:\n",
    "        rating = int(user_input)\n",
    "        if 1 <= rating <= 5:\n",
    "            ratings.append(rating)\n",
    "        else:\n",
    "            print(\"Please enter a valid rating between 1 and 5.\")\n",
    "    except ValueError:\n",
    "        print(\"Invalid input. Please enter a number or 'done'.\")\n",
    "\n",
    "result = positive_rating(ratings)\n",
    "print(result)\n"
   ]
  },
  {
   "cell_type": "code",
   "execution_count": null,
   "id": "eaa8e1f6-efba-40f0-8932-13febb1a71ea",
   "metadata": {},
   "outputs": [],
   "source": []
  }
 ],
 "metadata": {
  "kernelspec": {
   "display_name": "Python 3 (ipykernel)",
   "language": "python",
   "name": "python3"
  },
  "language_info": {
   "codemirror_mode": {
    "name": "ipython",
    "version": 3
   },
   "file_extension": ".py",
   "mimetype": "text/x-python",
   "name": "python",
   "nbconvert_exporter": "python",
   "pygments_lexer": "ipython3",
   "version": "3.13.2"
  }
 },
 "nbformat": 4,
 "nbformat_minor": 5
}
