{
 "cells": [
  {
   "cell_type": "markdown",
   "id": "fa19bfbe-c7e8-47bb-b234-1beaae0104b8",
   "metadata": {},
   "source": [
    "# Movie Ticket Booking System\n"
   ]
  },
  {
   "cell_type": "code",
   "execution_count": 2,
   "id": "63c379e6-c5e3-4e4c-9dab-caa5c55dbad1",
   "metadata": {},
   "outputs": [
    {
     "name": "stdin",
     "output_type": "stream",
     "text": [
      "Would you like to book or cancel a seat? (book/cancel/exit):  book\n",
      "Enter the seat number to book:  6\n"
     ]
    },
    {
     "name": "stdout",
     "output_type": "stream",
     "text": [
      "Seat booked successfully [2, 5, 7, 6]\n",
      "Available seats: [1, 3, 4, 8, 9, 10]\n"
     ]
    },
    {
     "name": "stdin",
     "output_type": "stream",
     "text": [
      "Would you like to book or cancel a seat? (book/cancel/exit):  cancel\n",
      "Enter the seat number to cancel:  5\n"
     ]
    },
    {
     "name": "stdout",
     "output_type": "stream",
     "text": [
      "Seat successfully canceled [2, 7, 6]\n",
      "Available seats: [1, 3, 4, 5, 8, 9, 10]\n"
     ]
    },
    {
     "name": "stdin",
     "output_type": "stream",
     "text": [
      "Would you like to book or cancel a seat? (book/cancel/exit):  exit\n"
     ]
    }
   ],
   "source": [
    "total_seats = 10\n",
    "booked_seats = [2, 5, 7]\n",
    "\n",
    "def book_seat(seats_booked, seat_booked):\n",
    "    if seat_booked in seats_booked:\n",
    "        print(\"Seat not available\")\n",
    "    else:\n",
    "        seats_booked.append(seat_booked)\n",
    "        print(\"Seat booked successfully\", seats_booked)\n",
    "    return seats_booked\n",
    "\n",
    "def cancel_seat(seats_booked, seat_booked):\n",
    "    if seat_booked in seats_booked:\n",
    "        seats_booked.remove(seat_booked)\n",
    "        print(\"Seat successfully canceled\", seats_booked)\n",
    "    else:\n",
    "        print(\"Seat is not currently booked\")\n",
    "    return seats_booked\n",
    "\n",
    "def get_available_seats(total_seats, booked_seats):\n",
    "    available_seats = []\n",
    "    for seat in range(1, total_seats + 1):\n",
    "        if seat not in booked_seats:\n",
    "            available_seats.append(seat)\n",
    "    return available_seats\n",
    "\n",
    "while True:\n",
    "    action = input(\"Would you like to book or cancel a seat? (book/cancel/exit): \").strip().lower()\n",
    "    \n",
    "    if action == \"book\":\n",
    "        seat_to_book = int(input(\"Enter the seat number to book: \"))\n",
    "        booked_seats = book_seat(booked_seats, seat_to_book)\n",
    "    \n",
    "    elif action == \"cancel\":\n",
    "        seat_to_cancel = int(input(\"Enter the seat number to cancel: \"))\n",
    "        booked_seats = cancel_seat(booked_seats, seat_to_cancel)\n",
    "    \n",
    "    elif action == \"exit\":\n",
    "        break\n",
    "    \n",
    "    else:\n",
    "        print(\"Invalid action. Please choose 'book', 'cancel', or 'exit'.\")\n",
    "    \n",
    "    available = get_available_seats(total_seats, booked_seats)\n",
    "    print(\"Available seats:\", available)\n"
   ]
  },
  {
   "cell_type": "code",
   "execution_count": null,
   "id": "c7b1e612-d659-4837-9495-5384f03b6738",
   "metadata": {},
   "outputs": [],
   "source": []
  }
 ],
 "metadata": {
  "kernelspec": {
   "display_name": "Python 3 (ipykernel)",
   "language": "python",
   "name": "python3"
  },
  "language_info": {
   "codemirror_mode": {
    "name": "ipython",
    "version": 3
   },
   "file_extension": ".py",
   "mimetype": "text/x-python",
   "name": "python",
   "nbconvert_exporter": "python",
   "pygments_lexer": "ipython3",
   "version": "3.13.2"
  }
 },
 "nbformat": 4,
 "nbformat_minor": 5
}
