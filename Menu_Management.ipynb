{
 "cells": [
  {
   "cell_type": "markdown",
   "id": "d72f5406-fdef-4ab8-8cd8-72430341c9ce",
   "metadata": {},
   "source": [
    "# Restaurant Menu Management\n"
   ]
  },
  {
   "cell_type": "code",
   "execution_count": 5,
   "id": "97471694-a4ec-4ab9-8291-e56447db1380",
   "metadata": {},
   "outputs": [
    {
     "name": "stdin",
     "output_type": "stream",
     "text": [
      "Enter item to be add in menu: Tacos\n",
      "Enter item to remove from menu: Salad\n",
      "Enter item to check in menu: Pizza\n"
     ]
    },
    {
     "name": "stdout",
     "output_type": "stream",
     "text": [
      "Updated menu: ['Pizza', 'Burger', 'Pasta', 'Tacos']\n",
      "Availability: Pizza is available.\n"
     ]
    }
   ],
   "source": [
    "initial_menu = [\"Pizza\", \"Burger\", \"Pasta\", \"Salad\"]\n",
    "\n",
    "add_item =input(\"Enter item to be add in menu:\")\n",
    "remove_item =input(\"Enter item to remove from menu:\")\n",
    "check_item =input(\"Enter item to check in menu:\")\n",
    "\n",
    "def add_item_to_menu(menu, new_item):\n",
    "    if new_item not in menu:\n",
    "        menu.append(new_item)\n",
    "    return menu\n",
    "\n",
    "def remove_item_from_menu(menu, item_to_remove):\n",
    "    if item_to_remove in menu:\n",
    "        menu.remove(item_to_remove)\n",
    "    else:\n",
    "        print(f\"Item '{item_to_remove}' not found in the menu.\")\n",
    "    return menu\n",
    "\n",
    "def check_item_availability(menu, item_to_check):\n",
    "    if item_to_check in menu:\n",
    "        return f\"{item_to_check} is available.\"\n",
    "    else:\n",
    "        return f\"{item_to_check} is not available in the menu.\"\n",
    "\n",
    "menu = add_item_to_menu(initial_menu, add_item)\n",
    "menu = remove_item_from_menu(menu, remove_item)\n",
    "availability = check_item_availability(menu, check_item)\n",
    "\n",
    "print(f\"Updated menu: {menu}\")\n",
    "print(\"Availability:\", availability)\n"
   ]
  },
  {
   "cell_type": "code",
   "execution_count": null,
   "id": "6e344390-9916-4180-a3e8-2757155f49ec",
   "metadata": {},
   "outputs": [],
   "source": []
  }
 ],
 "metadata": {
  "kernelspec": {
   "display_name": "Python 3 (ipykernel)",
   "language": "python",
   "name": "python3"
  },
  "language_info": {
   "codemirror_mode": {
    "name": "ipython",
    "version": 3
   },
   "file_extension": ".py",
   "mimetype": "text/x-python",
   "name": "python",
   "nbconvert_exporter": "python",
   "pygments_lexer": "ipython3",
   "version": "3.13.2"
  }
 },
 "nbformat": 4,
 "nbformat_minor": 5
}
